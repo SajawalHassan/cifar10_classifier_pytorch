{
  "nbformat": 4,
  "nbformat_minor": 0,
  "metadata": {
    "colab": {
      "provenance": [],
      "authorship_tag": "ABX9TyNe4awel1zx9w01ynHvo5pv"
    },
    "kernelspec": {
      "name": "python3",
      "display_name": "Python 3"
    },
    "language_info": {
      "name": "python"
    }
  },
  "cells": [
    {
      "cell_type": "markdown",
      "source": [
        "# 1. Dataset"
      ],
      "metadata": {
        "id": "svF-lrSAqxBW"
      }
    },
    {
      "cell_type": "markdown",
      "source": [
        "## 1.1 Download and clean dataset\n",
        "The dataset we will be using is the Food101 dataset. It contains 101 food categories.\n",
        "\n",
        "The training dataset was not cleaned and thus contains extreme noise and sometimes wrong labels"
      ],
      "metadata": {
        "id": "87zoybtCr_EK"
      }
    },
    {
      "cell_type": "code",
      "source": [
        "import os, shutil, glob\n",
        "import torch, torchvision\n",
        "from torchvision import datasets, transforms\n",
        "from torch.utils.data import DataLoader"
      ],
      "metadata": {
        "id": "vPYW8nAuvmFj"
      },
      "execution_count": 2,
      "outputs": []
    },
    {
      "cell_type": "code",
      "source": [
        "class Food101():\n",
        "  def __init__(self, root_dir, img_size, batch_size):\n",
        "    self.root_dir = root_dir\n",
        "    self.img_size = img_size\n",
        "    # The mean and standard deviation used for training resnet50\n",
        "    self.imgnet_mean = [0.485, 0.456, 0.406]\n",
        "    self.imgnet_std = [0.229, 0.224, 0.225]\n",
        "\n",
        "  def _get_tfms(self):\n",
        "    transformations = transforms.Compose([\n",
        "        transforms.RandomResizedCrop(self.img_size), # Resize the image by cropping random portions of the image\n",
        "        transforms.ToTensor(),\n",
        "        transforms.Normalize(mean=self.imgnet_mean, std=self.imgnet_std) # Set the rgb color channels of the images mean and std to the resnet50 mean and std\n",
        "    ])\n",
        "    return transformations\n",
        "\n",
        "  def get_dataset(self):\n",
        "    transformations = self._get_tfms()\n",
        "    train_ds = datasets.Food101(root=self.root_dir, split=\"train\", transform=transformations, download=True)\n",
        "    test_ds = datasets.Food101(root=self.root_dir, split=\"test\", transform=transformations)\n",
        "    train_classes = train_ds.classes\n",
        "\n",
        "    return train_ds, test_ds, train_classes\n",
        "  \n",
        "  def load_dataset(self, train_ds, test_ds):\n",
        "    train_dl = DataLoader(train_ds, batch_size=self.batch_size, shuffle=True)\n",
        "    test_dl = DataLoader(test_ds, batch_size=self.batch_size, shuffle=False)\n",
        "    return train_dl, test_dl"
      ],
      "metadata": {
        "id": "lV6-7CUKsGGD"
      },
      "execution_count": 19,
      "outputs": []
    },
    {
      "cell_type": "code",
      "source": [
        "IMG_SIZE = 224\n",
        "BATCH_SIZE = 128\n",
        "DATA_DIR = \"dataset\""
      ],
      "metadata": {
        "id": "XG_ifnj_6JZ0"
      },
      "execution_count": 15,
      "outputs": []
    },
    {
      "cell_type": "code",
      "source": [
        "food = Food101(DATA_DIR, IMG_SIZE, BATCH_SIZE)"
      ],
      "metadata": {
        "id": "GeQGRA0zxY8k"
      },
      "execution_count": 16,
      "outputs": []
    },
    {
      "cell_type": "code",
      "source": [
        "train_ds, test_ds, train_classes = food.get_dataset()"
      ],
      "metadata": {
        "id": "BCFvqY7exdgn"
      },
      "execution_count": 17,
      "outputs": []
    },
    {
      "cell_type": "code",
      "source": [
        "len(train_ds), len(test_ds), len(train_classes)"
      ],
      "metadata": {
        "id": "s7rDK0IMxfr4",
        "colab": {
          "base_uri": "https://localhost:8080/"
        },
        "outputId": "361efd5a-0c86-466b-b552-50a1861b0cc6"
      },
      "execution_count": 18,
      "outputs": [
        {
          "output_type": "execute_result",
          "data": {
            "text/plain": [
              "(75750, 25250, 101)"
            ]
          },
          "metadata": {},
          "execution_count": 18
        }
      ]
    },
    {
      "cell_type": "code",
      "source": [],
      "metadata": {
        "id": "24xucfsv76T6"
      },
      "execution_count": null,
      "outputs": []
    }
  ]
}